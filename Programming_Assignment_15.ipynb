{
  "cells": [
    {
      "cell_type": "markdown",
      "metadata": {
        "id": "jTG6cmGDpeZP"
      },
      "source": [
        "### 1. Please write a program using generator to print the numbers which can be divisible by 5 and 7 between 0 and n in comma separated form while n is input by console.\n",
        "\n",
        "Example:\n",
        "\n",
        "If the following n is given as input to the program:\n",
        "\n",
        "`100`\n",
        "\n",
        "Then, the output of the program should be:\n",
        "\n",
        "`0,35,70`"
      ]
    },
    {
      "cell_type": "code",
      "execution_count": 1,
      "metadata": {
        "colab": {
          "base_uri": "https://localhost:8080/"
        },
        "id": "hnqg4q3ApeZQ",
        "outputId": "0d660f84-9d82-42f4-8ca5-95ce9b204536"
      },
      "outputs": [
        {
          "output_type": "stream",
          "name": "stdout",
          "text": [
            "Enter n: 100\n",
            "0,35,70\n"
          ]
        }
      ],
      "source": [
        "def fun(n):\n",
        "    for i in range(n+1):\n",
        "        if i%5 == 0 and i%7 == 0:\n",
        "            yield i\n",
        "\n",
        "n = int(input(\"Enter n: \"))\n",
        "print(\",\".join([str(i) for i in fun(n)]))"
      ]
    },
    {
      "cell_type": "markdown",
      "metadata": {
        "id": "KIpreqG6peZS"
      },
      "source": [
        "### 2. Please write a program using generator to print the even numbers between 0 and n in comma separated form while n is input by console.\n",
        "\n",
        "Example:\n",
        "\n",
        "If the following n is given as input to the program:\n",
        "\n",
        "`10`\n",
        "\n",
        "Then, the output of the program should be:\n",
        "\n",
        "`0,2,4,6,8,10`"
      ]
    },
    {
      "cell_type": "code",
      "execution_count": 2,
      "metadata": {
        "colab": {
          "base_uri": "https://localhost:8080/"
        },
        "id": "xncN_jSUpeZS",
        "outputId": "7e302441-78f6-426b-fb47-0d51d065ec96"
      },
      "outputs": [
        {
          "output_type": "stream",
          "name": "stdout",
          "text": [
            "Enter n: 10\n",
            "0,2,4,6,8,10\n"
          ]
        }
      ],
      "source": [
        "def even_num(n):\n",
        "    for i in range(n+1):\n",
        "        if i%2 == 0:\n",
        "            yield i\n",
        "\n",
        "n = int(input(\"Enter n: \"))\n",
        "print(\",\".join([str(i) for i in even_num(n)]))"
      ]
    },
    {
      "cell_type": "markdown",
      "metadata": {
        "id": "bxoA-hUPpeZU"
      },
      "source": [
        "### 3. The Fibonacci Sequence is computed based on the following formula:\n",
        "### `f(n)=0 if n=0`\n",
        "### `f(n)=1 if n=1`\n",
        "### `f(n)=f(n-1)+f(n-2) if n>1`\n",
        "### Please write a program using list comprehension to print the Fibonacci Sequence in comma separated form with a given n input by console.\n",
        "\n",
        "Example:\n",
        "If the following n is given as input to the program:\n",
        "`7`\n",
        "\n",
        "Then, the output of the program should be:\n",
        "`0,1,1,2,3,5,8,13`"
      ]
    },
    {
      "cell_type": "code",
      "execution_count": 3,
      "metadata": {
        "colab": {
          "base_uri": "https://localhost:8080/"
        },
        "id": "1wpWxyrQpeZU",
        "outputId": "0133561c-b3df-4a3d-c97e-615777f3e70d"
      },
      "outputs": [
        {
          "output_type": "stream",
          "name": "stdout",
          "text": [
            "Enter n: 7\n",
            "0,1,1,2,3,5,8,13\n"
          ]
        }
      ],
      "source": [
        "n= int(input(\"Enter n: \"))\n",
        "mylist=[0,1]  \n",
        "[mylist.append(mylist[-2]+mylist[-1]) for n in range(n-1)]\n",
        "print(\",\".join(map(str,mylist)))"
      ]
    },
    {
      "cell_type": "markdown",
      "metadata": {
        "id": "1-3tw4LVpeZV"
      },
      "source": [
        "### 4. Assuming that we have some email addresses in the \"username@companyname.com\" format, please write program to print the user name of a given email address. Both user names and company names are composed of letters only.\n",
        "\n",
        "Example:\n",
        "\n",
        "If the following email address is given as input to the program:\n",
        "\n",
        "`john@google.com`\n",
        "\n",
        "Then, the output of the program should be:\n",
        "\n",
        "`john`"
      ]
    },
    {
      "cell_type": "code",
      "execution_count": 4,
      "metadata": {
        "colab": {
          "base_uri": "https://localhost:8080/"
        },
        "id": "5rbsrQNOpeZV",
        "outputId": "a4d63223-390e-484d-d92c-3fe59731442b"
      },
      "outputs": [
        {
          "output_type": "stream",
          "name": "stdout",
          "text": [
            "john\n"
          ]
        }
      ],
      "source": [
        "def username(email: str):\n",
        "    return email.split('@')[0]\n",
        "print(username('john@google.com'))"
      ]
    },
    {
      "cell_type": "markdown",
      "metadata": {
        "id": "yhZ0RoNrpeZW"
      },
      "source": [
        "### 5. Define a class named Shape and its subclass Square. The Square class has an init function which takes a length as argument. Both classes have a area function which can print the area of the shape where Shape's area is 0 by default."
      ]
    },
    {
      "cell_type": "code",
      "execution_count": 5,
      "metadata": {
        "colab": {
          "base_uri": "https://localhost:8080/"
        },
        "id": "3N2X5puhpeZW",
        "outputId": "d153fc3e-6501-4410-d3df-13bd83517b64"
      },
      "outputs": [
        {
          "output_type": "stream",
          "name": "stdout",
          "text": [
            "Area of Shape: 0\n",
            "Area of Square: 100\n"
          ]
        }
      ],
      "source": [
        "class Shape:\n",
        "    def __init__(self,length):\n",
        "        self.length = length\n",
        "    \n",
        "    def area(self):\n",
        "        return 0\n",
        "        \n",
        "class Square:\n",
        "    def __init__(self,length):\n",
        "        self.length = length\n",
        "        \n",
        "    def area(self):\n",
        "        return self.length ** 2\n",
        "\n",
        "Sh = Shape(10)\n",
        "print(f\"Area of Shape: {Sh.area()}\")\n",
        "Sq = Square(10)\n",
        "print(f\"Area of Square: {Sq.area()}\")"
      ]
    }
  ],
  "metadata": {
    "kernelspec": {
      "display_name": "Python 3",
      "language": "python",
      "name": "python3"
    },
    "language_info": {
      "codemirror_mode": {
        "name": "ipython",
        "version": 3
      },
      "file_extension": ".py",
      "mimetype": "text/x-python",
      "name": "python",
      "nbconvert_exporter": "python",
      "pygments_lexer": "ipython3",
      "version": "3.8.3"
    },
    "colab": {
      "name": "Programming_Assignment_15.ipynb",
      "provenance": []
    }
  },
  "nbformat": 4,
  "nbformat_minor": 0
}